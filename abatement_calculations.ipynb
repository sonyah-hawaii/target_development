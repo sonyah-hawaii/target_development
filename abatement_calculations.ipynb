{
 "cells": [
  {
   "cell_type": "markdown",
   "metadata": {},
   "source": [
    "# Abatement Calculations\n",
    "This notebook outlines the process of developing the target variable: CO2 units abated annually over time. The calculation uses datasets from 2 different sources: the [Enerdata Statistical Yearbook](https://yearbook.enerdata.net/) and the [World Bank](https://data.worldbank.org/indicator/EN.CO2.ETOT.ZS). The intention of developing this target, instead of only using the metrics given, is to focus the analysis towards the long-term goal (improving environmental quality by reducing overall emissions).\n",
    "\n",
    "## Notebook Contents\n",
    "- [Loading in and merging data sources](#loading_and_merging)  \n",
    "    [Countries in the dataset](#full_country_list)\n",
    "- [Developing abatement equation](#equation)\n",
    "- [Historical Abatement Calculations](#abatement_calculations)\n",
    "- [Completed CSV File](#csv)"
   ]
  },
  {
   "cell_type": "code",
   "execution_count": 90,
   "metadata": {},
   "outputs": [],
   "source": [
    "import pandas as pd\n",
    "import numpy as np\n",
    "import matplotlib.pyplot as plt\n",
    "\n",
    "%matplotlib inline"
   ]
  },
  {
   "cell_type": "markdown",
   "metadata": {},
   "source": [
    "### _Loading in and merging data sources_\n",
    "<a id='loading_and_merging'></a>\n",
    "\n",
    "Although most of our data is from the same source, each attribute needed to be pulled and saved as a separate table, then read in individually. There were initially a few issues with the way the datasets were reading in because of how the Yearbook is formatted so the `kwargs` and the `.replace` cell were included as a result of trial-and-error read-ins.  \n",
    "\n",
    "Otherwise, there is no true cleaning needed, except to [fill nulls for the patent dataset](#fill_nulls)"
   ]
  },
  {
   "cell_type": "code",
   "execution_count": 2,
   "metadata": {},
   "outputs": [],
   "source": [
    "#Loading in CSVs\n",
    "total_emissions = pd.read_csv('./data/C02_emissions.csv')\n",
    "electric_consumption = pd.read_csv('./data/electric_consumption.csv')\n",
    "electric_emissions = pd.read_csv('./data/electric_emissions.csv', encoding='latin')\n",
    "electric_production = pd.read_csv('./data/electric_production.csv')\n",
    "reneg_production = pd.read_csv('./data/reneg_production.csv')\n",
    "patents = pd.read_csv('./data/patents.csv')"
   ]
  },
  {
   "cell_type": "code",
   "execution_count": 3,
   "metadata": {},
   "outputs": [],
   "source": [
    "#Re-formatting our string characters into numbers to avoid errors\n",
    "\n",
    "total_emissions.replace(r',','', inplace=True, regex=True)\n",
    "electric_consumption.replace(r',','', inplace=True, regex=True)\n",
    "electric_emissions.replace(r',','', inplace=True, regex=True)\n",
    "electric_production.replace(r',','', inplace=True, regex=True)\n",
    "reneg_production.replace(r',','', inplace=True, regex=True)\n",
    "patents.replace(r',','', inplace=True, regex=True)"
   ]
  },
  {
   "cell_type": "markdown",
   "metadata": {},
   "source": [
    "<a id='fill_nulls'></a>"
   ]
  },
  {
   "cell_type": "code",
   "execution_count": 72,
   "metadata": {},
   "outputs": [
    {
     "data": {
      "text/plain": [
       "121"
      ]
     },
     "execution_count": 72,
     "metadata": {},
     "output_type": "execute_result"
    }
   ],
   "source": [
    "patents.isnull().sum().sum()"
   ]
  },
  {
   "cell_type": "code",
   "execution_count": 35,
   "metadata": {},
   "outputs": [],
   "source": [
    "#Patents is the only table that contains nulls for our designated time period (1990-2014)\n",
    "patents.fillna(value=0, axis=0, inplace=True)"
   ]
  },
  {
   "cell_type": "markdown",
   "metadata": {},
   "source": [
    "<a id='full_country_list'></a>"
   ]
  },
  {
   "cell_type": "code",
   "execution_count": 26,
   "metadata": {},
   "outputs": [],
   "source": [
    "#Setting list of unique countries that exist in all dataframes\n",
    "#Including world, will be separated later\n",
    "\n",
    "Countries = ['Belgium',\n",
    "'France',\n",
    "'Germany',\n",
    "'Italy',\n",
    "'Netherlands',\n",
    "'Poland',\n",
    "'Portugal',\n",
    "'Romania',\n",
    "'Spain',\n",
    "'United Kingdom',\n",
    "'Turkey',\n",
    "'Sweden',\n",
    "'Norway',\n",
    "'Kazakhstan',\n",
    "'Ukraine',\n",
    "'Uzbekistan',\n",
    "'Canada',\n",
    "'United States',\n",
    "'Argentina',\n",
    "'Brazil',\n",
    "'Chile',\n",
    "'Colombia',\n",
    "'Mexico',\n",
    "'China',\n",
    "'India',\n",
    "'Indonesia',\n",
    "'Japan',\n",
    "'Malaysia',\n",
    "'Thailand',\n",
    "'Australia',\n",
    "'New Zealand',\n",
    "'Algeria',\n",
    "'Nigeria',\n",
    "'South Africa',\n",
    "'Kuwait',\n",
    "'Saudi Arabia',\n",
    "'United Arab Emirates',\n",
    "             'World'\n",
    "    ]\n",
    "\n",
    "Countries.sort()"
   ]
  },
  {
   "cell_type": "markdown",
   "metadata": {},
   "source": [
    "### _Developing the Abatement Equation_\n",
    "<a id='equation'></a>\n",
    "\n",
    "In order to develop this equation the datasets needed to be merged individually to avoid errors and column name confusion.\n",
    "\n",
    "You can [skip to the equation broken down step-by-step](#equation_breakdown)\n"
   ]
  },
  {
   "cell_type": "code",
   "execution_count": 64,
   "metadata": {},
   "outputs": [],
   "source": [
    "total_emissions_14 = total_emissions[['Country', '2014']]\n",
    "electric_emissions_14 = electric_emissions[['Country Name', '2014']]\n",
    "electric_production_14 = electric_production[['Country', '2014']]\n",
    "reneg_production_14 = reneg_production[['Country','2014']]"
   ]
  },
  {
   "cell_type": "code",
   "execution_count": 65,
   "metadata": {},
   "outputs": [],
   "source": [
    "abatement_dataset = pd.merge(total_emissions_14, electric_emissions_14, how='left',\n",
    "                       left_on='Country', right_on='Country Name', left_index=True,\n",
    "                            suffixes=[' co2_emissions','electric_emissions_pct'])\n",
    "\n",
    "abatement_dataset.drop(labels='Country Name', axis=1, inplace=True)\n",
    "abatement_dataset.columns = ['country','co2_emissions','electric_emissions_pct']"
   ]
  },
  {
   "cell_type": "code",
   "execution_count": 66,
   "metadata": {},
   "outputs": [],
   "source": [
    "abatement_dataset = pd.merge(abatement_dataset, electric_production_14, how='left',\n",
    "                            left_on='country', right_on='Country', left_index=True)\n",
    "\n",
    "abatement_dataset.columns=['country', 'co2_emissions', 'electric_emissions_pct', 'country1', 'electric_production']\n",
    "\n",
    "abatement_dataset.drop(labels='country1', axis=1, inplace=True)"
   ]
  },
  {
   "cell_type": "code",
   "execution_count": 67,
   "metadata": {},
   "outputs": [],
   "source": [
    "abatement_dataset = pd.merge(abatement_dataset, reneg_production_14, how='left',\n",
    "                            left_on='country', right_on='Country', left_index=True)\n",
    "\n",
    "abatement_dataset.columns=['country', 'co2_emissions', 'electric_emissions_pct', 'electric_production', 'country1','reneg_production']\n",
    "\n",
    "abatement_dataset.drop(labels='country1', axis=1, inplace=True)"
   ]
  },
  {
   "cell_type": "code",
   "execution_count": 69,
   "metadata": {},
   "outputs": [],
   "source": [
    "abatement_dataset.co2_emissions = abatement_dataset.co2_emissions.astype(int)"
   ]
  },
  {
   "cell_type": "code",
   "execution_count": 95,
   "metadata": {},
   "outputs": [
    {
     "data": {
      "text/html": [
       "<div>\n",
       "<style scoped>\n",
       "    .dataframe tbody tr th:only-of-type {\n",
       "        vertical-align: middle;\n",
       "    }\n",
       "\n",
       "    .dataframe tbody tr th {\n",
       "        vertical-align: top;\n",
       "    }\n",
       "\n",
       "    .dataframe thead th {\n",
       "        text-align: right;\n",
       "    }\n",
       "</style>\n",
       "<table border=\"1\" class=\"dataframe\">\n",
       "  <thead>\n",
       "    <tr style=\"text-align: right;\">\n",
       "      <th></th>\n",
       "      <th>country</th>\n",
       "      <th>co2_emissions</th>\n",
       "      <th>electric_emissions_pct</th>\n",
       "      <th>electric_production</th>\n",
       "      <th>reneg_production</th>\n",
       "      <th>co2_electricity</th>\n",
       "      <th>reneg_production_share</th>\n",
       "      <th>conventional_production_share</th>\n",
       "      <th>co2_units</th>\n",
       "      <th>co2_abated</th>\n",
       "    </tr>\n",
       "  </thead>\n",
       "  <tbody>\n",
       "    <tr>\n",
       "      <th>49</th>\n",
       "      <td>Algeria</td>\n",
       "      <td>133</td>\n",
       "      <td>38.83</td>\n",
       "      <td>71</td>\n",
       "      <td>0.28</td>\n",
       "      <td>51.6439</td>\n",
       "      <td>0.1988</td>\n",
       "      <td>70.8012</td>\n",
       "      <td>0.729421</td>\n",
       "      <td>0.145009</td>\n",
       "    </tr>\n",
       "    <tr>\n",
       "      <th>30</th>\n",
       "      <td>Argentina</td>\n",
       "      <td>198</td>\n",
       "      <td>38.04</td>\n",
       "      <td>142</td>\n",
       "      <td>31.69</td>\n",
       "      <td>75.3192</td>\n",
       "      <td>44.9998</td>\n",
       "      <td>97.0002</td>\n",
       "      <td>0.776485</td>\n",
       "      <td>34.941670</td>\n",
       "    </tr>\n",
       "    <tr>\n",
       "      <th>46</th>\n",
       "      <td>Australia</td>\n",
       "      <td>378</td>\n",
       "      <td>58.36</td>\n",
       "      <td>248</td>\n",
       "      <td>14.92</td>\n",
       "      <td>220.6008</td>\n",
       "      <td>37.0016</td>\n",
       "      <td>210.9984</td>\n",
       "      <td>1.045509</td>\n",
       "      <td>38.685519</td>\n",
       "    </tr>\n",
       "    <tr>\n",
       "      <th>6</th>\n",
       "      <td>Belgium</td>\n",
       "      <td>89</td>\n",
       "      <td>25.85</td>\n",
       "      <td>73</td>\n",
       "      <td>18.44</td>\n",
       "      <td>23.0065</td>\n",
       "      <td>13.4612</td>\n",
       "      <td>59.5388</td>\n",
       "      <td>0.386412</td>\n",
       "      <td>5.201568</td>\n",
       "    </tr>\n",
       "    <tr>\n",
       "      <th>31</th>\n",
       "      <td>Brazil</td>\n",
       "      <td>475</td>\n",
       "      <td>26.31</td>\n",
       "      <td>591</td>\n",
       "      <td>73.08</td>\n",
       "      <td>124.9725</td>\n",
       "      <td>431.9028</td>\n",
       "      <td>159.0972</td>\n",
       "      <td>0.785510</td>\n",
       "      <td>339.264127</td>\n",
       "    </tr>\n",
       "  </tbody>\n",
       "</table>\n",
       "</div>"
      ],
      "text/plain": [
       "      country  co2_emissions  electric_emissions_pct  electric_production  \\\n",
       "49    Algeria            133                   38.83                   71   \n",
       "30  Argentina            198                   38.04                  142   \n",
       "46  Australia            378                   58.36                  248   \n",
       "6     Belgium             89                   25.85                   73   \n",
       "31     Brazil            475                   26.31                  591   \n",
       "\n",
       "    reneg_production  co2_electricity  reneg_production_share  \\\n",
       "49              0.28          51.6439                  0.1988   \n",
       "30             31.69          75.3192                 44.9998   \n",
       "46             14.92         220.6008                 37.0016   \n",
       "6              18.44          23.0065                 13.4612   \n",
       "31             73.08         124.9725                431.9028   \n",
       "\n",
       "    conventional_production_share  co2_units  co2_abated  \n",
       "49                        70.8012   0.729421    0.145009  \n",
       "30                        97.0002   0.776485   34.941670  \n",
       "46                       210.9984   1.045509   38.685519  \n",
       "6                         59.5388   0.386412    5.201568  \n",
       "31                       159.0972   0.785510  339.264127  "
      ]
     },
     "execution_count": 95,
     "metadata": {},
     "output_type": "execute_result"
    }
   ],
   "source": [
    "abatement_dataset.head()"
   ]
  },
  {
   "cell_type": "markdown",
   "metadata": {},
   "source": [
    "## _Equation Breakdown_\n",
    "<a id='equation_breakdown'></a>\n",
    "#### Attributes available:\n",
    "- **co2_emissions**: _Total CO2 Units emitted annually, measured in metric tons of CO2_  \n",
    "### $φ$\n",
    "- **electric_emissions_pct**: _Percentage of CO2 emissions from producing heat & electricity_  \n",
    "### $υ$\n",
    "- **electric_production**: _Amount of electricity produced annually, measured in metric tons of energy_  \n",
    "### $λ$   \n",
    "- **reneg_production**: _Percentage of electricity production from renewable sources_  \n",
    "### $γ$  \n",
    "\n",
    "## Steps of developing the equation:\n",
    "\n",
    "### $φυ$  \n",
    "**co2_electricity**: _determines how many units of CO2 emissions come from producing heat & electricy_ \n",
    "- co2_emissions \n",
    "- electric_emissions_pct  \n",
    "    \n",
    "### $γλ$      \n",
    "**reneg_production_share**: _determines what share of electricity production is from renewable energy sources_\n",
    "- reneg_production\n",
    "- electric_production \n",
    "    \n",
    "### $λ-(γλ)$  \n",
    "**conventional_production_share**: _determines what share of electricity production is fron conventional energy sources_\n",
    "- electric_production\n",
    "- reneg_production_share  \n",
    "    \n",
    "### $(φυ) / (λ-(γλ))$ \n",
    "**co2_units**: _determines the units of CO2 emissions from conventional production_\n",
    "- CO2 Electricity\n",
    "- Conventional Production Share \n",
    "    \n",
    "# $((φυ) / (λ-(γλ)))γλ$\n",
    "**co2_abated (Final Output)**: _metric tons of CO2 abated for every unit of energy produced using renewable sources_\n",
    "- CO2 Units\n",
    "- Reneg Production Share  \n"
   ]
  },
  {
   "cell_type": "code",
   "execution_count": 70,
   "metadata": {},
   "outputs": [],
   "source": [
    "#1. determine actual emissions from electricity and heat production alone\n",
    "#Using % of emissions that comes from generating heat & electricity\n",
    "abatement_dataset['co2_electricity'] = abatement_dataset.co2_emissions * (abatement_dataset.electric_emissions_pct/100)\n",
    "\n",
    "#2. understand how much C02 is produced per unit of energy\n",
    "# Of electricity production how \n",
    "abatement_dataset['reneg_production_share'] = (abatement_dataset.reneg_production/100)*abatement_dataset.electric_production #share of regular energy\n",
    "abatement_dataset['conventional_production_share'] = (abatement_dataset.electric_production-abatement_dataset.reneg_production_share)\n",
    "# #once i know how much is non-renewable I can use C02 emissions/energyproduction and find out C02 per unit of production\n",
    "\n",
    "# # Of the total energy output from electric plants what percentage is renewable\n",
    "abatement_dataset['co2_units'] = abatement_dataset.co2_electricity/abatement_dataset.conventional_production_share\n",
    "\n",
    "# # How much C02 is not being produced for the share of green energy usage\n",
    "#C02 units * renewable energy share = C02 saved\n",
    "abatement_dataset['co2_abated'] = abatement_dataset.co2_units*abatement_dataset.reneg_production_share"
   ]
  },
  {
   "cell_type": "markdown",
   "metadata": {},
   "source": [
    "### _Historical Abatement Calculations_\n",
    "\n",
    "<a id='abatement_calculations'></a>"
   ]
  },
  {
   "cell_type": "code",
   "execution_count": 53,
   "metadata": {},
   "outputs": [],
   "source": [
    "#Reducing each dataset according to country\n",
    "\n",
    "total_emissions = total_emissions.loc[total_emissions['Country'].isin(Countries)].sort_values('Country')\n",
    "electric_consumption = electric_consumption.loc[electric_consumption['Unnamed: 0'].isin(Countries)].sort_values('Unnamed: 0')\n",
    "electric_emissions = electric_emissions.loc[electric_emissions['Country Name'].isin(Countries)].sort_values('Country Name')\n",
    "electric_production = electric_production.loc[electric_production['Country'].isin(Countries)].sort_values('Country') \n",
    "reneg_production = reneg_production.loc[reneg_production['Country'].isin(Countries)].sort_values('Country')\n",
    "patents = patents.loc[patents['Unnamed: 0'].isin(Countries)].sort_values('Unnamed: 0')"
   ]
  },
  {
   "cell_type": "code",
   "execution_count": 59,
   "metadata": {},
   "outputs": [],
   "source": [
    "datasets = ['total_emissions',\n",
    "'electric_consumption',\n",
    "'electric_emissions',\n",
    "'electric_production',\n",
    "'reneg_production']"
   ]
  },
  {
   "cell_type": "code",
   "execution_count": 60,
   "metadata": {},
   "outputs": [],
   "source": [
    "years = ['1990','1991','1992','1993','1994','1995','1996','1997', '1998','1999','2000','2001',\n",
    "         '2002','2003','2004','2005','2006','2007','2008','2009','2010','2011','2012','2013','2014']"
   ]
  },
  {
   "cell_type": "code",
   "execution_count": 36,
   "metadata": {},
   "outputs": [],
   "source": [
    "def abatement_calculator(datasets, no_years):\n",
    "    abatement = pd.DataFrame()\n",
    "    for year in no_years:\n",
    "        for dataset in datasets:\n",
    "            #print(dataset)\n",
    "            if dataset == 'total_emissions_local':\n",
    "                    country = eval(dataset)['Country']\n",
    "                    co2_emissions = eval(dataset)[year]\n",
    "                    co2_emissions = co2_emissions.astype(int).values\n",
    "            if dataset == 'electric_emissions_local':\n",
    "                    electric_emissions_pct = eval(dataset)[year].values/100\n",
    "            if dataset == 'electric_production_local':\n",
    "                    electric_prod = eval(dataset)[year].values\n",
    "            if dataset == 'reneg_production_local':\n",
    "                    reneg_prod_pct = eval(dataset)[year].values/100                    \n",
    "                    \n",
    "        abatement['country'] = country   \n",
    "        abatement[year] = ((co2_emissions*electric_emissions_pct)/(electric_prod-(reneg_prod_pct*electric_prod)))*(reneg_prod_pct*electric_prod)\n",
    "    return abatement"
   ]
  },
  {
   "cell_type": "code",
   "execution_count": 42,
   "metadata": {},
   "outputs": [],
   "source": [
    "abate = abatement_calculator(datasets, years)"
   ]
  },
  {
   "cell_type": "markdown",
   "metadata": {},
   "source": [
    "<a id='csv'></a>"
   ]
  },
  {
   "cell_type": "code",
   "execution_count": 80,
   "metadata": {},
   "outputs": [],
   "source": [
    "abate.to_csv('./Data/abatement_calculations.csv')"
   ]
  }
 ],
 "metadata": {
  "kernelspec": {
   "display_name": "Python [conda env:dsi]",
   "language": "python",
   "name": "conda-env-dsi-py"
  },
  "language_info": {
   "codemirror_mode": {
    "name": "ipython",
    "version": 3
   },
   "file_extension": ".py",
   "mimetype": "text/x-python",
   "name": "python",
   "nbconvert_exporter": "python",
   "pygments_lexer": "ipython3",
   "version": "3.6.5"
  }
 },
 "nbformat": 4,
 "nbformat_minor": 2
}
