{
 "cells": [
  {
   "cell_type": "markdown",
   "metadata": {},
   "source": [
    "## Yi: West Nile Virus\n",
    "<a id='yi'></a>\n",
    "### _Transforming Yi to improve predictions_\n",
    "\n",
    "View full notebook here"
   ]
  },
  {
   "cell_type": "code",
   "execution_count": null,
   "metadata": {},
   "outputs": [],
   "source": [
    "train_dataset.to_csv('./assets/transformed_train.csv')\n",
    "test_dataset.to_csv('./assets/transformed_test.csv')"
   ]
  },
  {
   "cell_type": "code",
   "execution_count": null,
   "metadata": {},
   "outputs": [],
   "source": [
    "fig, ((ax1, ax2), (ax3, ax4)) = plt.subplots(2,2, figsize = (10,10))\n",
    "ax1.set_title('Distribution of yi (MIR)');\n",
    "sns.distplot(train_dataset['mir'], color='r', kde=False, ax=ax1);\n",
    "\n",
    "ax2.set_title('Distribution of square root(yi) (for MIR > 0)');\n",
    "sns.distplot((train_dataset[train_dataset['mir']>0]['mir']**0.5),\n",
    "             color='r', kde=False, ax=ax2);\n",
    "\n",
    "\n",
    "ax3.set_title('Distribution of fourth root(yi) (for MIR > 0)');\n",
    "sns.distplot((train_dataset[train_dataset['mir']>0]['mir']**0.25),\n",
    "             color='r', kde=False, ax=ax3);\n",
    "\n",
    "ax4.set_title('Distribution of log(yi) (for MIR > 0)');\n",
    "sns.distplot(np.log(train_dataset[train_dataset['mir']>0]['mir']),\n",
    "             color='r', kde=False, ax=ax4);"
   ]
  }
 ],
 "metadata": {
  "kernelspec": {
   "display_name": "Python [conda env:dsi]",
   "language": "python",
   "name": "conda-env-dsi-py"
  },
  "language_info": {
   "codemirror_mode": {
    "name": "ipython",
    "version": 3
   },
   "file_extension": ".py",
   "mimetype": "text/x-python",
   "name": "python",
   "nbconvert_exporter": "python",
   "pygments_lexer": "ipython3",
   "version": "3.6.5"
  }
 },
 "nbformat": 4,
 "nbformat_minor": 2
}
